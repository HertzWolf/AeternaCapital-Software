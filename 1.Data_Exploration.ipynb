{
 "cells": [
  {
   "cell_type": "code",
   "execution_count": 1,
   "id": "07e1f3d6",
   "metadata": {},
   "outputs": [],
   "source": [
    "from Aeterna_Func import Generate_Data\n",
    "import pandas as pd"
   ]
  },
  {
   "cell_type": "markdown",
   "id": "66ebe871",
   "metadata": {},
   "source": [
    "# 🧼 Module 1: Data Exploration\n",
    "\n",
    "## 🎯 Objective\n",
    "Explore a messy dataset containing financial trades and identify problems that must be cleaned before analysis.  \n",
    "\n",
    "By the end of this module, you'll be able to clean a raw trade log and prepare it to calculate portfolio value — a key task in any financial data pipeline.\n",
    "\n",
    "---\n",
    "\n",
    "## 📘 Assignment 1: First Exploration\n",
    "\n",
    "Run the function below to generate your raw dataset.\n"
   ]
  },
  {
   "cell_type": "code",
   "execution_count": 2,
   "id": "7bc18265",
   "metadata": {},
   "outputs": [],
   "source": [
    "# 💡 Tip: This function returns a DataFrame. Save it in a variable so you can explore it later.\n",
    "df = Generate_Data()"
   ]
  },
  {
   "cell_type": "markdown",
   "id": "51993a07",
   "metadata": {},
   "source": [
    "## Step 1.1 – Display the first few rows\n",
    "\n",
    "You should now display the first 5 rows of the dataset to understand its structure.\n",
    "\n",
    "- What kind of information is stored?\n",
    "- Do you see anything strange already?\n"
   ]
  },
  {
   "cell_type": "code",
   "execution_count": 3,
   "id": "773a5eaf",
   "metadata": {},
   "outputs": [
    {
     "data": {
      "text/html": [
       "<div>\n",
       "<style scoped>\n",
       "    .dataframe tbody tr th:only-of-type {\n",
       "        vertical-align: middle;\n",
       "    }\n",
       "\n",
       "    .dataframe tbody tr th {\n",
       "        vertical-align: top;\n",
       "    }\n",
       "\n",
       "    .dataframe thead th {\n",
       "        text-align: right;\n",
       "    }\n",
       "</style>\n",
       "<table border=\"1\" class=\"dataframe\">\n",
       "  <thead>\n",
       "    <tr style=\"text-align: right;\">\n",
       "      <th></th>\n",
       "      <th>Asset</th>\n",
       "      <th>Quantity</th>\n",
       "      <th>Price</th>\n",
       "      <th>Date</th>\n",
       "      <th>Type</th>\n",
       "    </tr>\n",
       "  </thead>\n",
       "  <tbody>\n",
       "    <tr>\n",
       "      <th>0</th>\n",
       "      <td>123</td>\n",
       "      <td>twenty</td>\n",
       "      <td>1255188.12</td>\n",
       "      <td></td>\n",
       "      <td>Hold</td>\n",
       "    </tr>\n",
       "    <tr>\n",
       "      <th>1</th>\n",
       "      <td>TSLA</td>\n",
       "      <td>9</td>\n",
       "      <td>916.0</td>\n",
       "      <td>2024-07-14</td>\n",
       "      <td>Sell</td>\n",
       "    </tr>\n",
       "    <tr>\n",
       "      <th>2</th>\n",
       "      <td></td>\n",
       "      <td>None</td>\n",
       "      <td>NaN</td>\n",
       "      <td>2023-15-01</td>\n",
       "      <td></td>\n",
       "    </tr>\n",
       "    <tr>\n",
       "      <th>3</th>\n",
       "      <td>AAPL</td>\n",
       "      <td>None</td>\n",
       "      <td>None</td>\n",
       "      <td>yesterday</td>\n",
       "      <td>Hold</td>\n",
       "    </tr>\n",
       "    <tr>\n",
       "      <th>4</th>\n",
       "      <td></td>\n",
       "      <td>None</td>\n",
       "      <td>3111455.83</td>\n",
       "      <td>2022-02-30</td>\n",
       "      <td>Purchase</td>\n",
       "    </tr>\n",
       "  </tbody>\n",
       "</table>\n",
       "</div>"
      ],
      "text/plain": [
       "  Asset Quantity       Price        Date      Type\n",
       "0   123   twenty  1255188.12                  Hold\n",
       "1  TSLA        9       916.0  2024-07-14      Sell\n",
       "2           None         NaN  2023-15-01          \n",
       "3  AAPL     None        None   yesterday      Hold\n",
       "4           None  3111455.83  2022-02-30  Purchase"
      ]
     },
     "execution_count": 3,
     "metadata": {},
     "output_type": "execute_result"
    }
   ],
   "source": [
    "# 💡 Tip: Use a method that shows the first 5 rows of a DataFrame.\n",
    "\n",
    "# YOUR CODE HERE\n",
    "df.head()"
   ]
  },
  {
   "cell_type": "markdown",
   "id": "bf7b85bb",
   "metadata": {},
   "source": [
    "## Step 1.2 – Check the shape of the dataset\n",
    "\n",
    "How many rows and columns does it contain?\n"
   ]
  },
  {
   "cell_type": "code",
   "execution_count": 4,
   "id": "97287685",
   "metadata": {},
   "outputs": [
    {
     "data": {
      "text/plain": [
       "(30, 5)"
      ]
     },
     "execution_count": 4,
     "metadata": {},
     "output_type": "execute_result"
    }
   ],
   "source": [
    "# 💡 Tip: Use `.shape` to see the dimensions of the DataFrame.\n",
    "\n",
    "# YOUR CODE HERE\n",
    "df.shape"
   ]
  },
  {
   "cell_type": "markdown",
   "id": "fcf53bfe",
   "metadata": {},
   "source": [
    "## Step 1.3 – Check column names\n",
    "\n",
    "This tells you which features are present and how to reference them in code.\n"
   ]
  },
  {
   "cell_type": "code",
   "execution_count": 5,
   "id": "01b7e425",
   "metadata": {},
   "outputs": [
    {
     "data": {
      "text/plain": [
       "Index(['Asset', 'Quantity', 'Price', 'Date', 'Type'], dtype='object')"
      ]
     },
     "execution_count": 5,
     "metadata": {},
     "output_type": "execute_result"
    }
   ],
   "source": [
    "# 💡 Tip: Use `.columns` to access the column names.\n",
    "\n",
    "# YOUR CODE HERE\n",
    "df.columns"
   ]
  },
  {
   "cell_type": "markdown",
   "id": "6c79a654",
   "metadata": {},
   "source": [
    "## Step 1.4 – Check data types\n",
    "\n",
    "Each column must have the correct data type to allow calculations and filtering.\n",
    "\n",
    "- Quantities and prices → numeric\n",
    "- Dates → datetime\n",
    "- Asset names and trade types → text"
   ]
  },
  {
   "cell_type": "code",
   "execution_count": 6,
   "id": "8e2c6e03",
   "metadata": {},
   "outputs": [
    {
     "data": {
      "text/plain": [
       "Asset       object\n",
       "Quantity    object\n",
       "Price       object\n",
       "Date        object\n",
       "Type        object\n",
       "dtype: object"
      ]
     },
     "execution_count": 6,
     "metadata": {},
     "output_type": "execute_result"
    }
   ],
   "source": [
    "# 💡 Tip: Use `.dtypes` to inspect the type of each column.\n",
    "\n",
    "# YOUR CODE HERE\n",
    "df.dtypes"
   ]
  },
  {
   "cell_type": "markdown",
   "id": "713b12c9",
   "metadata": {},
   "source": [
    "## Step 1.5 – Check for missing values\n",
    "\n",
    "Missing values are one of the most common problems in real-world financial data.\n",
    "\n",
    "Let’s count how many NaNs appear in each column.\n"
   ]
  },
  {
   "cell_type": "code",
   "execution_count": 7,
   "id": "cbe50a89",
   "metadata": {},
   "outputs": [
    {
     "data": {
      "text/plain": [
       "Asset       0\n",
       "Quantity    7\n",
       "Price       6\n",
       "Date        1\n",
       "Type        1\n",
       "dtype: int64"
      ]
     },
     "execution_count": 7,
     "metadata": {},
     "output_type": "execute_result"
    }
   ],
   "source": [
    "# 💡 Tip: Use `.isnull().sum()` to get missing values per column.\n",
    "\n",
    "# YOUR CODE HERE\n",
    "df.isnull().sum()"
   ]
  },
  {
   "cell_type": "markdown",
   "id": "93be9ee5",
   "metadata": {},
   "source": [
    "## Step 1.6 – View basic statistics\n",
    "\n",
    "Now let’s look at statistical summaries of the dataset.\n",
    "\n",
    "This helps you spot:\n",
    "- Outliers\n",
    "- Inconsistencies\n",
    "- Unexpected values\n"
   ]
  },
  {
   "cell_type": "code",
   "execution_count": 8,
   "id": "ee9ff47e",
   "metadata": {},
   "outputs": [
    {
     "data": {
      "text/html": [
       "<div>\n",
       "<style scoped>\n",
       "    .dataframe tbody tr th:only-of-type {\n",
       "        vertical-align: middle;\n",
       "    }\n",
       "\n",
       "    .dataframe tbody tr th {\n",
       "        vertical-align: top;\n",
       "    }\n",
       "\n",
       "    .dataframe thead th {\n",
       "        text-align: right;\n",
       "    }\n",
       "</style>\n",
       "<table border=\"1\" class=\"dataframe\">\n",
       "  <thead>\n",
       "    <tr style=\"text-align: right;\">\n",
       "      <th></th>\n",
       "      <th>Asset</th>\n",
       "      <th>Quantity</th>\n",
       "      <th>Price</th>\n",
       "      <th>Date</th>\n",
       "      <th>Type</th>\n",
       "    </tr>\n",
       "  </thead>\n",
       "  <tbody>\n",
       "    <tr>\n",
       "      <th>count</th>\n",
       "      <td>30</td>\n",
       "      <td>23</td>\n",
       "      <td>24</td>\n",
       "      <td>29</td>\n",
       "      <td>29</td>\n",
       "    </tr>\n",
       "    <tr>\n",
       "      <th>unique</th>\n",
       "      <td>7</td>\n",
       "      <td>16</td>\n",
       "      <td>18</td>\n",
       "      <td>18</td>\n",
       "      <td>6</td>\n",
       "    </tr>\n",
       "    <tr>\n",
       "      <th>top</th>\n",
       "      <td></td>\n",
       "      <td>twenty</td>\n",
       "      <td>free</td>\n",
       "      <td></td>\n",
       "      <td>Sell</td>\n",
       "    </tr>\n",
       "    <tr>\n",
       "      <th>freq</th>\n",
       "      <td>8</td>\n",
       "      <td>4</td>\n",
       "      <td>4</td>\n",
       "      <td>5</td>\n",
       "      <td>9</td>\n",
       "    </tr>\n",
       "  </tbody>\n",
       "</table>\n",
       "</div>"
      ],
      "text/plain": [
       "       Asset Quantity Price Date  Type\n",
       "count     30       23    24   29    29\n",
       "unique     7       16    18   18     6\n",
       "top            twenty  free       Sell\n",
       "freq       8        4     4    5     9"
      ]
     },
     "execution_count": 8,
     "metadata": {},
     "output_type": "execute_result"
    }
   ],
   "source": [
    "# 💡 Tip: Use `.describe(include='all')` to cover both numeric and categorical data.\n",
    "\n",
    "# YOUR CODE HERE\n",
    "df.describe(include='all')"
   ]
  },
  {
   "cell_type": "markdown",
   "id": "34362e89",
   "metadata": {},
   "source": [
    "## Step 1.7 – Look at unique values\n",
    "\n",
    "Print the first few unique values in each column to identify:\n",
    "- Inconsistencies in categories (e.g. \"BUY\" vs \"buy\")\n",
    "- Invalid formats (e.g. bad dates or prices)\n",
    "\n",
    "Loop through columns and print the `.unique()` values."
   ]
  },
  {
   "cell_type": "code",
   "execution_count": 9,
   "id": "949eb9a6",
   "metadata": {},
   "outputs": [
    {
     "name": "stdout",
     "output_type": "stream",
     "text": [
      "Column:Asset\n",
      "[123 'TSLA' '' 'AAPL' 'AMZN' 'MSFT' 'NFLX']\n",
      "Column:Quantity\n",
      "['twenty' 9 None 11 51 96 -43 2 20.5 79 46 '' 95 58 16 59 15]\n",
      "Column:Price\n",
      "[1255188.12 916.0 'NaN' None 3111455.83 591.58 720.35 599.67 1145.42\n",
      " 'free' 1303.32 265.12 1182.83 6912771.46 881016.98 1864646.73 6573810.99\n",
      " 667.38 1455.88]\n",
      "Column:Date\n",
      "['' '2024-07-14' '2023-15-01' 'yesterday' '2022-02-30' '2024-12-07'\n",
      " '2024-05-26' '2024-07-02' '2025-02-04' '2024-12-28' 'not a date'\n",
      " '2025-03-23' '2025-03-16' '2025-04-06' '2024-09-01' '2024-08-20' None\n",
      " '2024-09-06' '2024-10-28']\n",
      "Column:Type\n",
      "['Hold' 'Sell' '' 'Purchase' 'Buy' 123 None]\n"
     ]
    }
   ],
   "source": [
    "# 💡 Tip: Use a for-loop to loop over `df.columns`, and call `.unique()` on each column.\n",
    "\n",
    "# YOUR CODE HERE\n",
    "for column in df.columns:\n",
    "    print(\"Column:\" + column)\n",
    "    print(df[column].unique())"
   ]
  },
  {
   "cell_type": "markdown",
   "id": "8f844f94",
   "metadata": {},
   "source": [
    "## Step 1.8 – Check for duplicate rows\n",
    "\n",
    "Duplicate trades can corrupt portfolio calculations.\n",
    "Count how many fully duplicated rows exist."
   ]
  },
  {
   "cell_type": "code",
   "execution_count": 14,
   "id": "a369ee2f",
   "metadata": {},
   "outputs": [
    {
     "name": "stdout",
     "output_type": "stream",
     "text": [
      "0\n"
     ]
    }
   ],
   "source": [
    "# 💡 Tip: Use `.duplicated().sum()` to count full-row duplicates.\n",
    "\n",
    "# YOUR CODE HERE\n",
    "print(df.duplicated().sum())"
   ]
  },
  {
   "cell_type": "markdown",
   "id": "385adf29",
   "metadata": {},
   "source": [
    "## ✅ Summary\n",
    "\n",
    "By now you should be able to:\n",
    "- Inspect a DataFrame's structure\n",
    "- Identify missing data and inconsistent types\n",
    "- Spot potential problems with categorical values\n",
    "- Detect duplicate rows\n",
    "\n",
    "In the next assignment, you’ll **fix these issues** and transform this dataset into something usable for portfolio analysis.\n",
    "\n",
    "📌 Final Goal: Write a Python function that takes this raw DataFrame as input and returns the **total portfolio value over time**.  \n",
    "\n",
    "You're on the right track — let's clean things up next 🔧\n"
   ]
  },
  {
   "cell_type": "markdown",
   "id": "ae877f28",
   "metadata": {},
   "source": [
    "The file was messy and it will be fun to clean it. Exploring it in general was very insightful since it is a good way to know and understand the task at hand and plan or map it out in advance so you know what to do and how much work there is to be done. most of the commands very very straight forward and optimizes for the  user."
   ]
  },
  {
   "cell_type": "markdown",
   "id": "5885b1f7",
   "metadata": {},
   "source": [
    "## 📦 Save the dirty DataFrame\n",
    "\n",
    "You’ll need this dirty dataset for the next module (data cleaning). Let’s save it into a new variable."
   ]
  },
  {
   "cell_type": "code",
   "execution_count": 15,
   "id": "6c03725b",
   "metadata": {},
   "outputs": [],
   "source": [
    "# 💡 Tip: Use df.to_csv() and set index=False to avoid saving the index column\n",
    "\n",
    "# YOUR CODE HERE\n",
    "df.to_csv(\"Data_To_Clean\" , index=False)"
   ]
  },
  {
   "cell_type": "markdown",
   "id": "1abe6828",
   "metadata": {},
   "source": [
    "## 📘 Report\n",
    "\n",
    "Now, write a small report on the findings about the dataset!"
   ]
  },
  {
   "cell_type": "markdown",
   "id": "f213de5d",
   "metadata": {},
   "source": []
  }
 ],
 "metadata": {
  "kernelspec": {
   "display_name": "Python 3",
   "language": "python",
   "name": "python3"
  },
  "language_info": {
   "codemirror_mode": {
    "name": "ipython",
    "version": 3
   },
   "file_extension": ".py",
   "mimetype": "text/x-python",
   "name": "python",
   "nbconvert_exporter": "python",
   "pygments_lexer": "ipython3",
   "version": "3.13.2"
  }
 },
 "nbformat": 4,
 "nbformat_minor": 5
}

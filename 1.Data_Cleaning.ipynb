{
 "cells": [
  {
   "cell_type": "code",
   "execution_count": 2,
   "id": "07e1f3d6",
   "metadata": {},
   "outputs": [],
   "source": [
    "from Aeterna_Func import Generate_Data"
   ]
  },
  {
   "cell_type": "markdown",
   "id": "66ebe871",
   "metadata": {},
   "source": [
    "# 🧼 Module 1: Data Cleaning\n",
    "\n",
    "## 🎯 Objective\n",
    "Explore a messy dataset containing financial trades and identify problems that must be cleaned before analysis.  \n",
    "\n",
    "By the end of this module, you'll be able to clean a raw trade log and prepare it to calculate portfolio value — a key task in any financial data pipeline.\n",
    "\n",
    "---\n",
    "\n",
    "## 📘 Assignment 1: First Exploration\n",
    "\n",
    "Run the function below to generate your raw dataset.\n"
   ]
  },
  {
   "cell_type": "code",
   "execution_count": 12,
   "id": "7bc18265",
   "metadata": {},
   "outputs": [],
   "source": [
    "# 💡 Tip: This function returns a DataFrame. Save it in a variable so you can explore it later.\n",
    "df = Generate_Data()"
   ]
  },
  {
   "cell_type": "markdown",
   "id": "51993a07",
   "metadata": {},
   "source": [
    "## Step 1.1 – Display the first few rows\n",
    "\n",
    "You should now display the first 5 rows of the dataset to understand its structure.\n",
    "\n",
    "- What kind of information is stored?\n",
    "- Do you see anything strange already?\n"
   ]
  },
  {
   "cell_type": "code",
   "execution_count": 4,
   "id": "773a5eaf",
   "metadata": {},
   "outputs": [],
   "source": [
    "# 💡 Tip: Use a method that shows the first 5 rows of a DataFrame.\n",
    "\n",
    "# YOUR CODE HERE"
   ]
  },
  {
   "cell_type": "markdown",
   "id": "bf7b85bb",
   "metadata": {},
   "source": [
    "## Step 1.2 – Check the shape of the dataset\n",
    "\n",
    "How many rows and columns does it contain?\n"
   ]
  },
  {
   "cell_type": "code",
   "execution_count": 5,
   "id": "97287685",
   "metadata": {},
   "outputs": [],
   "source": [
    "# 💡 Tip: Use `.shape` to see the dimensions of the DataFrame.\n",
    "\n",
    "# YOUR CODE HERE"
   ]
  },
  {
   "cell_type": "markdown",
   "id": "fcf53bfe",
   "metadata": {},
   "source": [
    "## Step 1.3 – Check column names\n",
    "\n",
    "This tells you which features are present and how to reference them in code.\n"
   ]
  },
  {
   "cell_type": "code",
   "execution_count": 6,
   "id": "01b7e425",
   "metadata": {},
   "outputs": [],
   "source": [
    "# 💡 Tip: Use `.columns` to access the column names.\n",
    "\n",
    "# YOUR CODE HERE"
   ]
  },
  {
   "cell_type": "markdown",
   "id": "6c79a654",
   "metadata": {},
   "source": [
    "## Step 1.4 – Check data types\n",
    "\n",
    "Each column must have the correct data type to allow calculations and filtering.\n",
    "\n",
    "- Quantities and prices → numeric\n",
    "- Dates → datetime\n",
    "- Asset names and trade types → text"
   ]
  },
  {
   "cell_type": "code",
   "execution_count": 7,
   "id": "8e2c6e03",
   "metadata": {},
   "outputs": [],
   "source": [
    "# 💡 Tip: Use `.dtypes` to inspect the type of each column.\n",
    "\n",
    "# YOUR CODE HERE"
   ]
  },
  {
   "cell_type": "markdown",
   "id": "713b12c9",
   "metadata": {},
   "source": [
    "## Step 1.5 – Check for missing values\n",
    "\n",
    "Missing values are one of the most common problems in real-world financial data.\n",
    "\n",
    "Let’s count how many NaNs appear in each column.\n"
   ]
  },
  {
   "cell_type": "code",
   "execution_count": 8,
   "id": "cbe50a89",
   "metadata": {},
   "outputs": [],
   "source": [
    "# 💡 Tip: Use `.isnull().sum()` to get missing values per column.\n",
    "\n",
    "# YOUR CODE HERE"
   ]
  },
  {
   "cell_type": "markdown",
   "id": "93be9ee5",
   "metadata": {},
   "source": [
    "## Step 1.6 – View basic statistics\n",
    "\n",
    "Now let’s look at statistical summaries of the dataset.\n",
    "\n",
    "This helps you spot:\n",
    "- Outliers\n",
    "- Inconsistencies\n",
    "- Unexpected values\n"
   ]
  },
  {
   "cell_type": "code",
   "execution_count": 9,
   "id": "ee9ff47e",
   "metadata": {},
   "outputs": [],
   "source": [
    "# 💡 Tip: Use `.describe(include='all')` to cover both numeric and categorical data.\n",
    "\n",
    "# YOUR CODE HERE"
   ]
  },
  {
   "cell_type": "markdown",
   "id": "34362e89",
   "metadata": {},
   "source": [
    "## Step 1.7 – Look at unique values\n",
    "\n",
    "Print the first few unique values in each column to identify:\n",
    "- Inconsistencies in categories (e.g. \"BUY\" vs \"buy\")\n",
    "- Invalid formats (e.g. bad dates or prices)\n",
    "\n",
    "Loop through columns and print the `.unique()` values."
   ]
  },
  {
   "cell_type": "code",
   "execution_count": 10,
   "id": "949eb9a6",
   "metadata": {},
   "outputs": [],
   "source": [
    "# 💡 Tip: Use a for-loop to loop over `df.columns`, and call `.unique()` on each column.\n",
    "\n",
    "# YOUR CODE HERE"
   ]
  },
  {
   "cell_type": "markdown",
   "id": "8f844f94",
   "metadata": {},
   "source": [
    "## Step 1.8 – Check for duplicate rows\n",
    "\n",
    "Duplicate trades can corrupt portfolio calculations.\n",
    "Count how many fully duplicated rows exist."
   ]
  },
  {
   "cell_type": "code",
   "execution_count": 11,
   "id": "a369ee2f",
   "metadata": {},
   "outputs": [],
   "source": [
    "# 💡 Tip: Use `.duplicated().sum()` to count full-row duplicates.\n",
    "\n",
    "# YOUR CODE HERE"
   ]
  },
  {
   "cell_type": "markdown",
   "id": "385adf29",
   "metadata": {},
   "source": [
    "## ✅ Summary\n",
    "\n",
    "By now you should be able to:\n",
    "- Inspect a DataFrame's structure\n",
    "- Identify missing data and inconsistent types\n",
    "- Spot potential problems with categorical values\n",
    "- Detect duplicate rows\n",
    "\n",
    "In the next assignment, you’ll **fix these issues** and transform this dataset into something usable for portfolio analysis.\n",
    "\n",
    "📌 Final Goal: Write a Python function that takes this raw DataFrame as input and returns the **total portfolio value over time**.  \n",
    "\n",
    "You're on the right track — let's clean things up next 🔧\n"
   ]
  }
 ],
 "metadata": {
  "kernelspec": {
   "display_name": ".venv",
   "language": "python",
   "name": "python3"
  },
  "language_info": {
   "codemirror_mode": {
    "name": "ipython",
    "version": 3
   },
   "file_extension": ".py",
   "mimetype": "text/x-python",
   "name": "python",
   "nbconvert_exporter": "python",
   "pygments_lexer": "ipython3",
   "version": "3.10.10"
  }
 },
 "nbformat": 4,
 "nbformat_minor": 5
}

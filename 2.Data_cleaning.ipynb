{
 "cells": [
  {
   "cell_type": "markdown",
   "id": "ad6ff316",
   "metadata": {},
   "source": [
    "# 🧹 Module 2: Data Cleaning\n",
    "\n",
    "## 🎯 Objective\n",
    "Now that you’ve explored the dataset and identified issues, it’s time to clean the data so that we can use it for analysis.\n",
    "\n",
    "You will:\n",
    "- Convert data types (e.g., Date, Quantity, Price)\n",
    "- Handle missing and invalid values\n",
    "- Remove duplicates\n",
    "- Standardize categorical variables\n",
    "\n",
    "Your cleaned dataset will be the foundation for calculating portfolio value in the next module."
   ]
  },
  {
   "cell_type": "markdown",
   "id": "33f80a9f",
   "metadata": {},
   "source": [
    "### Step 2.0 – Import the DataFrame\n",
    "\n",
    "Make sure you start from the same dataset you explored in Module 1.\n",
    "\n",
    "Import the CSV File\n"
   ]
  },
  {
   "cell_type": "code",
   "execution_count": null,
   "id": "7b9aabe1",
   "metadata": {
    "vscode": {
     "languageId": "plaintext"
    }
   },
   "outputs": [],
   "source": [
    "# 💡 Tip: Use the csv format\n",
    "\n",
    "# YOUR CODE HERE\n"
   ]
  },
  {
   "cell_type": "markdown",
   "id": "7658970e",
   "metadata": {},
   "source": [
    "### Step 2.1 – Convert data types\n",
    "\n",
    "Make sure:\n",
    "- `Date` is a datetime object\n",
    "- `Quantity` and `Price` are numeric\n",
    "\n",
    "If conversion fails due to bad data, handle errors gracefully (e.g., use `errors='coerce'`).\n"
   ]
  },
  {
   "cell_type": "code",
   "execution_count": null,
   "id": "e27ecf5b",
   "metadata": {
    "vscode": {
     "languageId": "plaintext"
    }
   },
   "outputs": [],
   "source": [
    "# 💡 Tip: Use pd.to_datetime() and pd.to_numeric()\n",
    "\n",
    "# Convert Date column\n",
    "# YOUR CODE HERE\n",
    "\n",
    "# Convert Quantity and Price\n",
    "# YOUR CODE HERE\n"
   ]
  },
  {
   "cell_type": "markdown",
   "id": "b3d539b5",
   "metadata": {},
   "source": [
    "### Step 2.2 – Remove invalid or missing rows\n",
    "\n",
    "Decide how to deal with rows that:\n",
    "- Have missing `Asset`, `Quantity`, or `Price`\n",
    "- Have `Quantity` or `Price` <= 0\n",
    "- Have a missing or invalid `Date`\n",
    "\n",
    "Hint: Not all missing values should be dropped blindly. You may want to drop only critical columns.\n",
    "\n",
    "Clean based on what would break portfolio valuation.\n"
   ]
  },
  {
   "cell_type": "code",
   "execution_count": null,
   "id": "50661730",
   "metadata": {
    "vscode": {
     "languageId": "plaintext"
    }
   },
   "outputs": [],
   "source": [
    "# 💡 Tip: Use .dropna() and boolean filtering\n",
    "\n",
    "# Remove rows with missing or invalid critical fields\n",
    "# YOUR CODE HERE\n"
   ]
  },
  {
   "cell_type": "markdown",
   "id": "a246c260",
   "metadata": {},
   "source": [
    "### Step 2.3 – Keep only valid trade types\n",
    "\n",
    "Valid trade types are: `'Buy'` and `'Sell'`\n",
    "\n",
    "All others (e.g. `Hold`, empty string, NaN) should be removed or fixed.\n"
   ]
  },
  {
   "cell_type": "code",
   "execution_count": null,
   "id": "3a7788e7",
   "metadata": {
    "vscode": {
     "languageId": "plaintext"
    }
   },
   "outputs": [],
   "source": [
    "# 💡 Tip: Use .isin() to filter only valid values\n",
    "\n",
    "# Filter the 'Type' column\n",
    "# YOUR CODE HERE\n"
   ]
  },
  {
   "cell_type": "markdown",
   "id": "2732742b",
   "metadata": {},
   "source": [
    "### Step 2.4 – Standardize text columns\n",
    "\n",
    "Some entries in the `Asset` or `Type` columns might be lowercase or contain whitespace.\n",
    "\n",
    "Clean them by:\n",
    "- Removing extra spaces\n",
    "- Making everything uppercase (or consistent case)\n",
    "- Dropping empty strings if necessary\n"
   ]
  },
  {
   "cell_type": "code",
   "execution_count": null,
   "id": "ba84408d",
   "metadata": {
    "vscode": {
     "languageId": "plaintext"
    }
   },
   "outputs": [],
   "source": [
    "# 💡 Tip: Use .str.strip() and .str.upper()\n",
    "\n",
    "# Clean Asset column\n",
    "# YOUR CODE HERE\n",
    "\n",
    "# Clean Type column\n",
    "# YOUR CODE HERE\n"
   ]
  },
  {
   "cell_type": "markdown",
   "id": "81b1f737",
   "metadata": {},
   "source": [
    "### Step 2.5 – Remove duplicates\n",
    "\n",
    "If there are duplicate trades, remove them to avoid double-counting in future portfolio valuation.\n"
   ]
  },
  {
   "cell_type": "code",
   "execution_count": null,
   "id": "130dae8b",
   "metadata": {
    "vscode": {
     "languageId": "plaintext"
    }
   },
   "outputs": [],
   "source": [
    "# 💡 Tip: Use .drop_duplicates()\n",
    "\n",
    "# YOUR CODE HERE\n"
   ]
  },
  {
   "cell_type": "markdown",
   "id": "864db44d",
   "metadata": {},
   "source": [
    "### Step 2.6 – Reset the DataFrame index\n",
    "\n",
    "After all rows have been removed or filtered, reset the index to keep the dataset clean and sequential.\n"
   ]
  },
  {
   "cell_type": "code",
   "execution_count": null,
   "id": "dd79b5bb",
   "metadata": {
    "vscode": {
     "languageId": "plaintext"
    }
   },
   "outputs": [],
   "source": [
    "# 💡 Tip: Use .reset_index(drop=True)\n",
    "\n",
    "# YOUR CODE HERE\n"
   ]
  },
  {
   "cell_type": "markdown",
   "id": "20ed0532",
   "metadata": {},
   "source": [
    "### ✅ Final Check: Review the cleaned dataset\n",
    "\n",
    "Display the first few rows and check:\n",
    "- Are there still any NaNs?\n",
    "- Are all values consistent and valid?\n"
   ]
  },
  {
   "cell_type": "code",
   "execution_count": null,
   "id": "b5e5e043",
   "metadata": {
    "vscode": {
     "languageId": "plaintext"
    }
   },
   "outputs": [],
   "source": [
    "# 💡 Tip: Use .head() and .isnull().sum()\n",
    "\n",
    "# YOUR CODE HERE\n"
   ]
  },
  {
   "cell_type": "markdown",
   "id": "8488266f",
   "metadata": {},
   "source": [
    "## 📦 Save the cleaned DataFrame\n",
    "\n",
    "You’ll need this cleaned dataset for the next module (portfolio computation). Let’s save it into a new variable.\n"
   ]
  },
  {
   "cell_type": "code",
   "execution_count": null,
   "id": "13d2bb2a",
   "metadata": {
    "vscode": {
     "languageId": "plaintext"
    }
   },
   "outputs": [],
   "source": [
    "# 💡 Tip: Use a meaningful name like df_clean\n",
    "\n",
    "# YOUR CODE HERE\n"
   ]
  }
 ],
 "metadata": {
  "language_info": {
   "name": "python"
  }
 },
 "nbformat": 4,
 "nbformat_minor": 5
}
